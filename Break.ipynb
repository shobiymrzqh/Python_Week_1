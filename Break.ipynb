{
 "cells": [
  {
   "cell_type": "markdown",
   "id": "8e79b444-7573-4c53-826f-90c9d9d30837",
   "metadata": {},
   "source": [
    "BREAK"
   ]
  },
  {
   "cell_type": "markdown",
   "id": "63dbfebf-8279-4804-8953-01d796d55aac",
   "metadata": {},
   "source": [
    "- The break statement stops the loop and then exits, followed by executing the statement after the loop block\n",
    "- If you have a nested loop, break will stop the loop according to the level or loop it is in\n",
    "- However, if it is placed in a second depth loop, for example, only that loop stops, not the main loop"
   ]
  },
  {
   "cell_type": "code",
   "execution_count": 3,
   "id": "c072dbda-6cb2-4b07-a19a-9beaa14368ac",
   "metadata": {},
   "outputs": [
    {
     "name": "stdout",
     "output_type": "stream",
     "text": [
      "D\n",
      "a\n",
      "t\n",
      "a\n"
     ]
    }
   ],
   "source": [
    "for i in \"Data Science\":\n",
    "    if i == \" \":\n",
    "        break\n",
    "    print(i)"
   ]
  },
  {
   "cell_type": "code",
   "execution_count": 2,
   "id": "8f5b1edd-f1d7-4b68-9cb5-c15438188400",
   "metadata": {},
   "outputs": [
    {
     "name": "stdout",
     "output_type": "stream",
     "text": [
      "today is monday\n",
      "today is tuesday\n",
      "today is wednesday\n"
     ]
    }
   ],
   "source": [
    "day = ['monday', 'tuesday', 'wednesday', 'thursday', 'friday']\n",
    "\n",
    "for i in day:\n",
    "    if i == 'thursday':\n",
    "        break\n",
    "    print(\"today is {}\". format(i))"
   ]
  },
  {
   "cell_type": "code",
   "execution_count": 1,
   "id": "57bcf235-deaf-47f9-9025-41e762420b25",
   "metadata": {},
   "outputs": [
    {
     "name": "stdout",
     "output_type": "stream",
     "text": [
      "1\n",
      "2\n",
      "3\n",
      "4\n"
     ]
    }
   ],
   "source": [
    "for i in range(1,10):\n",
    "    if i == 5:\n",
    "        break\n",
    "    print(i)"
   ]
  }
 ],
 "metadata": {
  "kernelspec": {
   "display_name": "Python 3 (ipykernel)",
   "language": "python",
   "name": "python3"
  },
  "language_info": {
   "codemirror_mode": {
    "name": "ipython",
    "version": 3
   },
   "file_extension": ".py",
   "mimetype": "text/x-python",
   "name": "python",
   "nbconvert_exporter": "python",
   "pygments_lexer": "ipython3",
   "version": "3.11.7"
  }
 },
 "nbformat": 4,
 "nbformat_minor": 5
}
