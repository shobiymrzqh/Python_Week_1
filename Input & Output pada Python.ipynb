{
 "cells": [
  {
   "cell_type": "markdown",
   "id": "80cd8fed-d67c-4c00-8693-900a99c28123",
   "metadata": {},
   "source": [
    "VARIABEL"
   ]
  },
  {
   "cell_type": "markdown",
   "id": "272c6fb5-92d4-41b0-b0fc-16392f4ed31b",
   "metadata": {},
   "source": [
    "A variable is a place (in computer memory) to store values ​​with a certain data type.\n",
    "To assign a value to a variable, we use the \"=\" operator, between the variable name and the value we want to store."
   ]
  },
  {
   "cell_type": "raw",
   "id": "d7fde066-9878-45aa-8b97-508827f6e7fa",
   "metadata": {},
   "source": [
    "a = 3\n",
    "## meaning : we will store the value 3 (type int) into variable a"
   ]
  },
  {
   "cell_type": "markdown",
   "id": "be5ab5b8-246d-4473-8bf1-99376c9c7309",
   "metadata": {},
   "source": [
    "PRINT "
   ]
  },
  {
   "cell_type": "markdown",
   "id": "aef9115d-c26f-4b10-b46b-b59a5633ad29",
   "metadata": {},
   "source": [
    "The print() function is a direct way of output to the console/screen."
   ]
  },
  {
   "cell_type": "code",
   "execution_count": 1,
   "id": "70ecd7f0-99ac-4148-a3bf-3ba4f4c4851a",
   "metadata": {},
   "outputs": [
    {
     "name": "stdout",
     "output_type": "stream",
     "text": [
      "How are you?\n"
     ]
    }
   ],
   "source": [
    "print(\"How are you?\")"
   ]
  },
  {
   "cell_type": "markdown",
   "id": "d345f4d9-f84b-410b-b959-15682458096c",
   "metadata": {},
   "source": [
    "Entering variable values ​​in strings"
   ]
  },
  {
   "cell_type": "markdown",
   "id": "78848a7a-4e08-4634-90e0-19ad19d5d8c9",
   "metadata": {},
   "source": [
    "To insert variable values ​​in strings, Python has several ways.\n",
    "- Directly combine variables in the print() statement."
   ]
  },
  {
   "cell_type": "code",
   "execution_count": 3,
   "id": "317c8900-662d-4aa4-8fc8-d7cdc5250dc8",
   "metadata": {},
   "outputs": [],
   "source": [
    "a = 3"
   ]
  },
  {
   "cell_type": "code",
   "execution_count": 4,
   "id": "b672b657-1812-4bab-acd3-d42f0f855dad",
   "metadata": {},
   "outputs": [
    {
     "data": {
      "text/plain": [
       "int"
      ]
     },
     "execution_count": 4,
     "metadata": {},
     "output_type": "execute_result"
    }
   ],
   "source": [
    "type(a)"
   ]
  },
  {
   "cell_type": "code",
   "execution_count": 5,
   "id": "78f0648f-75bd-44db-b55a-b8c337b14d98",
   "metadata": {},
   "outputs": [
    {
     "name": "stdout",
     "output_type": "stream",
     "text": [
      "The value of variable a is 3\n"
     ]
    }
   ],
   "source": [
    "print (\"The value of variable a is\", a)"
   ]
  },
  {
   "cell_type": "code",
   "execution_count": 8,
   "id": "db7da26f-5456-4a4d-9bb7-3a33a6a05b4b",
   "metadata": {},
   "outputs": [],
   "source": [
    "name = \"fatim\""
   ]
  },
  {
   "cell_type": "code",
   "execution_count": 10,
   "id": "215d667a-7824-4ec3-888f-9c79cf5ed8a9",
   "metadata": {},
   "outputs": [
    {
     "name": "stdout",
     "output_type": "stream",
     "text": [
      "My name is fatim\n"
     ]
    }
   ],
   "source": [
    "print (\"My name is\", name)"
   ]
  },
  {
   "cell_type": "markdown",
   "id": "11927b19-7af9-4c59-ba96-f659da0d613e",
   "metadata": {},
   "source": [
    "- To display text (string), you can use the string format mechanism."
   ]
  },
  {
   "cell_type": "code",
   "execution_count": 11,
   "id": "b2aa7b00-b76d-458d-93c3-137731a85e05",
   "metadata": {},
   "outputs": [
    {
     "name": "stdout",
     "output_type": "stream",
     "text": [
      "My name is Fatim\n"
     ]
    }
   ],
   "source": [
    "print ('My name is {}'. format('Fatim'))"
   ]
  },
  {
   "cell_type": "code",
   "execution_count": 12,
   "id": "c88a8d46-cc7e-4c67-80fb-8ed1f8c33c51",
   "metadata": {},
   "outputs": [],
   "source": [
    "Name = \"Fatim\""
   ]
  },
  {
   "cell_type": "code",
   "execution_count": 13,
   "id": "a6fed4fc-bd3d-4490-93cb-4d04fff8461c",
   "metadata": {},
   "outputs": [
    {
     "name": "stdout",
     "output_type": "stream",
     "text": [
      "My name is Fatim\n"
     ]
    }
   ],
   "source": [
    "print (\"My name is {}\". format(Name))"
   ]
  },
  {
   "cell_type": "markdown",
   "id": "4f09bd2f-08d4-4fc2-8cf9-b19b44b093df",
   "metadata": {},
   "source": [
    "Using the % operator added with \"argument specifiers\"\n",
    "\n",
    "Some examples of argument specifiers, which are commonly used:\n",
    "1. %s - string\n",
    "2. %d - integer\n",
    "3. %f - float"
   ]
  },
  {
   "cell_type": "code",
   "execution_count": 14,
   "id": "e8fe025c-8458-4f8d-985a-0227fa0e7724",
   "metadata": {},
   "outputs": [],
   "source": [
    "name = \"fatim\""
   ]
  },
  {
   "cell_type": "code",
   "execution_count": 15,
   "id": "d4994bb2-affd-4d9a-8f88-2ddfae04b092",
   "metadata": {},
   "outputs": [],
   "source": [
    "age = 22"
   ]
  },
  {
   "cell_type": "code",
   "execution_count": 17,
   "id": "bd9bb3ae-ac5d-4fb5-9a6b-44d695be81c1",
   "metadata": {},
   "outputs": [
    {
     "name": "stdout",
     "output_type": "stream",
     "text": [
      "fatim's age is 22 years\n"
     ]
    }
   ],
   "source": [
    "print (\"%s's age is %d years\" %(name, age))"
   ]
  },
  {
   "cell_type": "markdown",
   "id": "7fbb560d-0b1b-401f-943c-42b34e7945a4",
   "metadata": {},
   "source": [
    "INPUT"
   ]
  },
  {
   "cell_type": "markdown",
   "id": "719a7abb-6a32-49a2-8eba-c7a080821d87",
   "metadata": {},
   "source": [
    "To allow users to provide input to your program, use the input() function, where the argument in brackets () is the text you want to display (prompt) and the variable before the equal sign (=) is a container for the result of the user's input."
   ]
  },
  {
   "cell_type": "code",
   "execution_count": 40,
   "id": "328385d8-ace7-4fb0-8781-50d3167fab4e",
   "metadata": {},
   "outputs": [
    {
     "name": "stdin",
     "output_type": "stream",
     "text": [
      " tes\n"
     ]
    },
    {
     "data": {
      "text/plain": [
       "'tes'"
      ]
     },
     "execution_count": 40,
     "metadata": {},
     "output_type": "execute_result"
    }
   ],
   "source": [
    "input()"
   ]
  },
  {
   "cell_type": "code",
   "execution_count": 19,
   "id": "9b841489-e015-4786-8d9a-f9251b470084",
   "metadata": {},
   "outputs": [
    {
     "name": "stdin",
     "output_type": "stream",
     "text": [
      "my name is : fatim\n"
     ]
    }
   ],
   "source": [
    "name = input(\"my name is :\")"
   ]
  },
  {
   "cell_type": "code",
   "execution_count": 20,
   "id": "4072b59b-5b3d-4e6c-8a86-2838f8f72ea4",
   "metadata": {},
   "outputs": [
    {
     "name": "stdout",
     "output_type": "stream",
     "text": [
      "fatim\n"
     ]
    }
   ],
   "source": [
    "print (name)"
   ]
  },
  {
   "cell_type": "markdown",
   "id": "6bcf830f-2207-499e-81e1-63d08c2ec6f7",
   "metadata": {},
   "source": [
    "By default, user input is a string"
   ]
  },
  {
   "cell_type": "code",
   "execution_count": 21,
   "id": "2e09cb35-2715-492c-bc5c-d93380062439",
   "metadata": {},
   "outputs": [
    {
     "name": "stdin",
     "output_type": "stream",
     "text": [
      "my age is : 21\n"
     ]
    }
   ],
   "source": [
    "age = input(\"my age is :\")"
   ]
  },
  {
   "cell_type": "code",
   "execution_count": 23,
   "id": "2cd9a843-62d6-4a61-af49-6ce7d5f2b8d9",
   "metadata": {},
   "outputs": [
    {
     "name": "stdout",
     "output_type": "stream",
     "text": [
      "21\n"
     ]
    }
   ],
   "source": [
    "print (age)"
   ]
  },
  {
   "cell_type": "code",
   "execution_count": 24,
   "id": "c5d67102-635e-476e-8948-d0dd96fe6fb9",
   "metadata": {},
   "outputs": [
    {
     "data": {
      "text/plain": [
       "str"
      ]
     },
     "execution_count": 24,
     "metadata": {},
     "output_type": "execute_result"
    }
   ],
   "source": [
    "type(age)"
   ]
  },
  {
   "cell_type": "markdown",
   "id": "6f419fc4-e08e-4c8f-a8de-f1a835daaae6",
   "metadata": {},
   "source": [
    "If you want to change the data type, you can convert it"
   ]
  },
  {
   "cell_type": "code",
   "execution_count": 25,
   "id": "0fa00e25-6918-45e9-ad07-f5a846e4f6b7",
   "metadata": {},
   "outputs": [
    {
     "name": "stdin",
     "output_type": "stream",
     "text": [
      "my age is: 21\n"
     ]
    }
   ],
   "source": [
    "age = int(input(\"my age is:\"))"
   ]
  },
  {
   "cell_type": "code",
   "execution_count": 26,
   "id": "215cfae3-8c1e-4b76-873b-a91ec7c2cef9",
   "metadata": {},
   "outputs": [
    {
     "name": "stdout",
     "output_type": "stream",
     "text": [
      "21\n"
     ]
    }
   ],
   "source": [
    "print (age)"
   ]
  },
  {
   "cell_type": "code",
   "execution_count": 27,
   "id": "160ee5de-623b-4854-82cb-8d82fe6755d6",
   "metadata": {},
   "outputs": [
    {
     "data": {
      "text/plain": [
       "int"
      ]
     },
     "execution_count": 27,
     "metadata": {},
     "output_type": "execute_result"
    }
   ],
   "source": [
    "type (age)"
   ]
  },
  {
   "cell_type": "markdown",
   "id": "f42acd25-9484-4084-a3a6-a0f937529d4f",
   "metadata": {},
   "source": [
    "Another example"
   ]
  },
  {
   "cell_type": "code",
   "execution_count": 54,
   "id": "637d3c82-d1f9-4bf0-8ca4-89a1aa5c5343",
   "metadata": {},
   "outputs": [],
   "source": [
    "menu = 'bakso'"
   ]
  },
  {
   "cell_type": "code",
   "execution_count": 55,
   "id": "617d324b-6c39-4796-bb5b-0b1d5ea4b99c",
   "metadata": {},
   "outputs": [],
   "source": [
    "jumlah = 13"
   ]
  },
  {
   "cell_type": "code",
   "execution_count": 56,
   "id": "63379705-ec1f-42ef-87ce-0f3afb0c2d72",
   "metadata": {},
   "outputs": [
    {
     "name": "stdout",
     "output_type": "stream",
     "text": [
      "Menu bakso hari ini ada sebanyak 13 porsi\n"
     ]
    }
   ],
   "source": [
    "print(\"Menu %s hari ini ada sebanyak %d porsi\" %(menu,jumlah))"
   ]
  },
  {
   "cell_type": "code",
   "execution_count": 57,
   "id": "beed619f-04ba-4159-b6dd-3b734c7e989e",
   "metadata": {},
   "outputs": [
    {
     "name": "stdin",
     "output_type": "stream",
     "text": [
      "Masukkan nama anda : Fatimah\n"
     ]
    }
   ],
   "source": [
    "nama = input(\"Masukkan nama anda :\")"
   ]
  },
  {
   "cell_type": "code",
   "execution_count": 58,
   "id": "e11d53a7-208b-4583-91ef-26909287a494",
   "metadata": {},
   "outputs": [
    {
     "name": "stdin",
     "output_type": "stream",
     "text": [
      "Masukkan alamat email anda : fatimahzza@upi.edu\n"
     ]
    }
   ],
   "source": [
    "email = input(\"Masukkan alamat email anda :\")"
   ]
  },
  {
   "cell_type": "code",
   "execution_count": 59,
   "id": "9e12dbd2-2b22-4f75-8979-41196cedf096",
   "metadata": {},
   "outputs": [
    {
     "name": "stdin",
     "output_type": "stream",
     "text": [
      "Masukkan nomor telepon anda : 0822222\n"
     ]
    }
   ],
   "source": [
    "telepon = input(\"Masukkan nomor telepon anda :\")"
   ]
  },
  {
   "cell_type": "code",
   "execution_count": 60,
   "id": "ba0e3959-2365-4331-8d8c-34008a5385cb",
   "metadata": {},
   "outputs": [
    {
     "name": "stdout",
     "output_type": "stream",
     "text": [
      "Terima kasih! Berikut adalah informasi yang Anda berikan :\n",
      "Nama = Fatimah\n",
      "e-mail = fatimahzza@upi.edu\n",
      "Nomor Telepon = 0822222\n"
     ]
    }
   ],
   "source": [
    "print(\"Terima kasih! Berikut adalah informasi yang Anda berikan :\")\n",
    "print(\"Nama =\", nama)\n",
    "print(\"e-mail =\", email)\n",
    "print(\"Nomor Telepon =\", telepon)"
   ]
  }
 ],
 "metadata": {
  "kernelspec": {
   "display_name": "Python 3 (ipykernel)",
   "language": "python",
   "name": "python3"
  },
  "language_info": {
   "codemirror_mode": {
    "name": "ipython",
    "version": 3
   },
   "file_extension": ".py",
   "mimetype": "text/x-python",
   "name": "python",
   "nbconvert_exporter": "python",
   "pygments_lexer": "ipython3",
   "version": "3.11.7"
  }
 },
 "nbformat": 4,
 "nbformat_minor": 5
}
