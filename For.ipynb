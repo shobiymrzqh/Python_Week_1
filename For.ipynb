{
 "cells": [
  {
   "cell_type": "markdown",
   "id": "2658f66d-1eab-41d0-889f-3e8632baee18",
   "metadata": {},
   "source": [
    "FOR"
   ]
  },
  {
   "cell_type": "markdown",
   "id": "92c30629-be6e-474e-bee4-90902f8e7509",
   "metadata": {},
   "source": [
    "- For is a function that can loop over each type of variable in the form of a collection or sequence\n",
    "- The variable in question can be a list, string, or range\n",
    "- If a list or sequence contains an expression, it will be evaluated first\n",
    "- Then the first item in the sequence/list will be assigned as the iterating_var variable\n",
    "- Afterwards, the block of statements will be executed, continuing to the next item, repeating itself, until the entire sequence is completed."
   ]
  },
  {
   "cell_type": "code",
   "execution_count": 1,
   "id": "18848309-7c50-40b3-b6c0-53a6ef4c7202",
   "metadata": {},
   "outputs": [
    {
     "name": "stdout",
     "output_type": "stream",
     "text": [
      "letter d\n",
      "letter a\n",
      "letter t\n",
      "letter a\n"
     ]
    }
   ],
   "source": [
    "for i in 'data':\n",
    "    print (\"letter {}\". format(i))"
   ]
  },
  {
   "cell_type": "code",
   "execution_count": 2,
   "id": "0f127bb2-b765-4268-9b96-899768e9627e",
   "metadata": {},
   "outputs": [
    {
     "name": "stdout",
     "output_type": "stream",
     "text": [
      "color red\n",
      "color yellow\n",
      "color green\n"
     ]
    }
   ],
   "source": [
    "color = ['red', 'yellow', 'green']\n",
    "\n",
    "for i in color:\n",
    "    print (\"color {}\". format(i))"
   ]
  },
  {
   "cell_type": "code",
   "execution_count": 6,
   "id": "82bda745-ca83-45cc-bf7a-9b64f4f97943",
   "metadata": {},
   "outputs": [
    {
     "name": "stdout",
     "output_type": "stream",
     "text": [
      "0\n",
      "1\n",
      "2\n"
     ]
    }
   ],
   "source": [
    "for i in range (3):\n",
    "    print (i)"
   ]
  },
  {
   "cell_type": "code",
   "execution_count": 3,
   "id": "e1ff732e-52d0-4a05-871d-2aadac5e2e8e",
   "metadata": {},
   "outputs": [
    {
     "name": "stdout",
     "output_type": "stream",
     "text": [
      "1\n",
      "2\n",
      "3\n"
     ]
    }
   ],
   "source": [
    "for i in range(1,4):\n",
    "    print(i)"
   ]
  },
  {
   "cell_type": "code",
   "execution_count": 3,
   "id": "a3313641-8e37-47f7-8f94-7eab27565bc9",
   "metadata": {},
   "outputs": [
    {
     "name": "stdout",
     "output_type": "stream",
     "text": [
      "today is monday\n",
      "today is tuesday\n",
      "today is wednesday\n",
      "today is thursday\n",
      "today is friday\n"
     ]
    }
   ],
   "source": [
    "day = ['monday', 'tuesday', 'wednesday', 'thursday', 'friday']\n",
    "\n",
    "for i in day:\n",
    "    print(\"today is {}\". format(i))"
   ]
  },
  {
   "cell_type": "markdown",
   "id": "245d5000-6b5c-42b4-9681-3df0b0407993",
   "metadata": {},
   "source": [
    "Nested Loop"
   ]
  },
  {
   "cell_type": "code",
   "execution_count": 3,
   "id": "31707aca-25ef-4949-afe3-64d8775792d5",
   "metadata": {},
   "outputs": [
    {
     "name": "stdout",
     "output_type": "stream",
     "text": [
      "* * * \n",
      "* * \n",
      "* \n"
     ]
    }
   ],
   "source": [
    "for row in range (3) :\n",
    "    for col in range (3) :\n",
    "        if row == 0 and col <= 2:\n",
    "            print (\"*\", end = \" \")\n",
    "        elif row == 1 and col <= 1:\n",
    "            print (\"*\", end = \" \")\n",
    "        elif row == 2 and col == 0:\n",
    "            print (\"*\", end = \" \")\n",
    "    print ()"
   ]
  },
  {
   "cell_type": "code",
   "execution_count": 6,
   "id": "b76a6ce1-5955-4a12-889f-a1bd131deccf",
   "metadata": {},
   "outputs": [
    {
     "name": "stdout",
     "output_type": "stream",
     "text": [
      "* \n",
      "* * \n",
      "* * * \n",
      "* * * * \n"
     ]
    }
   ],
   "source": [
    "for row in range (4):\n",
    "    for col in range (4):\n",
    "        if row == 0 and col == 0:\n",
    "            print (\"*\", end = \" \")\n",
    "        elif row ==1 and col <=1:\n",
    "            print (\"*\", end = \" \")\n",
    "        elif row ==2 and col <=2:\n",
    "            print (\"*\", end = \" \")\n",
    "        elif row ==3 and col <=3:\n",
    "            print (\"*\", end = \" \")\n",
    "    print ()"
   ]
  },
  {
   "cell_type": "code",
   "execution_count": 5,
   "id": "db8b2b81-d65f-4ef0-a50c-f2bd463b7162",
   "metadata": {},
   "outputs": [
    {
     "name": "stdout",
     "output_type": "stream",
     "text": [
      "* * * * * \n",
      "* * * * \n",
      "* * * \n",
      "* * \n",
      "* \n"
     ]
    }
   ],
   "source": [
    "for row in range (5):\n",
    "    for col in range (5):\n",
    "        if row == 0 and col <= 4:\n",
    "            print (\"*\", end = \" \")\n",
    "        elif row ==1 and col <=3:\n",
    "            print (\"*\", end = \" \")\n",
    "        elif row ==2 and col <=2:\n",
    "            print (\"*\", end = \" \")\n",
    "        elif row ==3 and col <=1:\n",
    "            print (\"*\", end = \" \")\n",
    "        elif row ==4 and col ==0:\n",
    "            print (\"*\", end = \" \")\n",
    "    print ()"
   ]
  },
  {
   "cell_type": "markdown",
   "id": "2dcf0429-928f-476c-bd49-2f8d3a6086fa",
   "metadata": {},
   "source": [
    "Else after For"
   ]
  },
  {
   "cell_type": "markdown",
   "id": "242c59c4-6cda-43a1-9562-22634679d500",
   "metadata": {},
   "source": [
    "The Else function after for is the function that takes precedence over search loops - to provide a program exit when the search is not found."
   ]
  },
  {
   "cell_type": "code",
   "execution_count": 4,
   "id": "018da2c6-224d-4235-bfb0-fea0b944c986",
   "metadata": {},
   "outputs": [
    {
     "name": "stdout",
     "output_type": "stream",
     "text": [
      "1 is an odd number\n",
      "2 is an even number\n",
      "3 is an odd number\n",
      "4 is an even number\n",
      "5 is an odd number\n",
      "6 is an even number\n"
     ]
    }
   ],
   "source": [
    "for i in range (1,7):\n",
    "    if i % 2 == 0:\n",
    "        print (\"{} is an even number\".format(i))\n",
    "    else:\n",
    "        print(\"{} is an odd number\".format(i))"
   ]
  },
  {
   "cell_type": "code",
   "execution_count": 5,
   "id": "84e35cdd-c2b7-42ba-a138-142ab84438d0",
   "metadata": {},
   "outputs": [
    {
     "name": "stdout",
     "output_type": "stream",
     "text": [
      "3 is a multiple of three\n",
      "4 is not a multiple of three\n",
      "5 is not a multiple of three\n",
      "6 is a multiple of three\n",
      "7 is not a multiple of three\n",
      "8 is not a multiple of three\n",
      "9 is a multiple of three\n",
      "10 is not a multiple of three\n",
      "11 is not a multiple of three\n",
      "12 is a multiple of three\n"
     ]
    }
   ],
   "source": [
    "for i in range (3,13):\n",
    "    if i % 3 == 0:\n",
    "        print (\"{} is a multiple of three\".format(i))\n",
    "    else:\n",
    "        print(\"{} is not a multiple of three\".format(i))"
   ]
  }
 ],
 "metadata": {
  "kernelspec": {
   "display_name": "Python 3 (ipykernel)",
   "language": "python",
   "name": "python3"
  },
  "language_info": {
   "codemirror_mode": {
    "name": "ipython",
    "version": 3
   },
   "file_extension": ".py",
   "mimetype": "text/x-python",
   "name": "python",
   "nbconvert_exporter": "python",
   "pygments_lexer": "ipython3",
   "version": "3.11.7"
  }
 },
 "nbformat": 4,
 "nbformat_minor": 5
}
