{
 "cells": [
  {
   "cell_type": "markdown",
   "id": "d532c9bf-2387-43ab-acdf-3514c02109ab",
   "metadata": {},
   "source": [
    "LIST COMPREHENSION (Create a list with inline loop and if)"
   ]
  },
  {
   "cell_type": "markdown",
   "id": "11d66bf6-2628-4ef2-a322-5464e4e6e619",
   "metadata": {},
   "source": [
    "Sometimes we need to create a new list from the previous list operation. List comprehension is one way to generate new lists based on previously existing lists or iterables."
   ]
  },
  {
   "cell_type": "code",
   "execution_count": 1,
   "id": "e693b226-091e-4e42-a8b9-7e15e543afd4",
   "metadata": {},
   "outputs": [],
   "source": [
    "number = [2,3,4]"
   ]
  },
  {
   "cell_type": "code",
   "execution_count": 2,
   "id": "ed584412-4a18-46c8-a25e-24e855d76cac",
   "metadata": {},
   "outputs": [],
   "source": [
    "cubic = []"
   ]
  },
  {
   "cell_type": "code",
   "execution_count": 5,
   "id": "f9183590-3cef-4974-a06d-9c7f8f55c03e",
   "metadata": {},
   "outputs": [
    {
     "name": "stdout",
     "output_type": "stream",
     "text": [
      "[8, 27, 64]\n"
     ]
    }
   ],
   "source": [
    "for i in number:\n",
    "    cubic.append(i**3)\n",
    "print(cubic)"
   ]
  },
  {
   "cell_type": "code",
   "execution_count": 6,
   "id": "e21a044a-1aa2-49be-955b-d07b688c6a31",
   "metadata": {},
   "outputs": [
    {
     "name": "stdout",
     "output_type": "stream",
     "text": [
      "[8, 27, 64]\n"
     ]
    }
   ],
   "source": [
    "print (cubic)"
   ]
  },
  {
   "cell_type": "markdown",
   "id": "f75b9d2c-f3f3-4ff3-947f-69e53716c51c",
   "metadata": {},
   "source": [
    "writing in another way"
   ]
  },
  {
   "cell_type": "markdown",
   "id": "ab162724-30c2-4db1-958a-415983678c3d",
   "metadata": {},
   "source": [
    "new_list = [expression for_loop_one_or_more_condition]"
   ]
  },
  {
   "cell_type": "code",
   "execution_count": 7,
   "id": "7eac4dfc-98d1-4103-9398-d05e153c2025",
   "metadata": {},
   "outputs": [],
   "source": [
    "number = [2,3,4]"
   ]
  },
  {
   "cell_type": "code",
   "execution_count": 9,
   "id": "4d1976d5-3dfb-43ac-845c-01f0e302b86a",
   "metadata": {},
   "outputs": [],
   "source": [
    "cubic = [i**3 for i in number]"
   ]
  },
  {
   "cell_type": "code",
   "execution_count": 10,
   "id": "0ad4ffe2-7c1b-4601-bbf6-3f0e9528639f",
   "metadata": {},
   "outputs": [
    {
     "name": "stdout",
     "output_type": "stream",
     "text": [
      "[8, 27, 64]\n"
     ]
    }
   ],
   "source": [
    "print(cubic)"
   ]
  },
  {
   "cell_type": "code",
   "execution_count": 14,
   "id": "d6c33d93-425d-4a43-bf1d-0577725a0684",
   "metadata": {},
   "outputs": [],
   "source": [
    "number = [3,27,81,258]"
   ]
  },
  {
   "cell_type": "code",
   "execution_count": 13,
   "id": "6f4ba66b-ae34-470b-8246-991b1715f7c1",
   "metadata": {},
   "outputs": [],
   "source": [
    "division = []"
   ]
  },
  {
   "cell_type": "code",
   "execution_count": 15,
   "id": "94c78d8a-8304-4cd0-ade1-55d8bdf1d13a",
   "metadata": {},
   "outputs": [
    {
     "name": "stdout",
     "output_type": "stream",
     "text": [
      "[1.0, 9.0, 27.0, 86.0]\n"
     ]
    }
   ],
   "source": [
    "for i in number:\n",
    "    division.append(i/3)\n",
    "print(division)"
   ]
  },
  {
   "cell_type": "code",
   "execution_count": 16,
   "id": "dcef1182-ae25-4653-9ba3-b3fe5da9d07a",
   "metadata": {},
   "outputs": [],
   "source": [
    "number = [3,27,81,258]"
   ]
  },
  {
   "cell_type": "code",
   "execution_count": 17,
   "id": "21a79be6-c3a0-475d-be4e-6dd7e12704f8",
   "metadata": {},
   "outputs": [],
   "source": [
    "division = [i/3 for i in number]"
   ]
  },
  {
   "cell_type": "code",
   "execution_count": 18,
   "id": "fa96f980-b6be-4a5a-8d3c-5aeca6c47bee",
   "metadata": {},
   "outputs": [
    {
     "name": "stdout",
     "output_type": "stream",
     "text": [
      "[1.0, 9.0, 27.0, 86.0]\n"
     ]
    }
   ],
   "source": [
    "print(division)"
   ]
  },
  {
   "cell_type": "code",
   "execution_count": 19,
   "id": "74793140-740c-40e2-8ac3-9649027e12b6",
   "metadata": {},
   "outputs": [
    {
     "name": "stdout",
     "output_type": "stream",
     "text": [
      "['c']\n"
     ]
    }
   ],
   "source": [
    "abc = ['a','b','c']\n",
    "cde = ['c','d','e']\n",
    "\n",
    "duplicate = []\n",
    "\n",
    "for i in abc:\n",
    "    for j in cde:\n",
    "        if i == j:\n",
    "            duplicate.append(i)\n",
    "print(duplicate)"
   ]
  },
  {
   "cell_type": "code",
   "execution_count": 20,
   "id": "4749e4e4-18a4-4fae-882b-a82ed8ca2ff3",
   "metadata": {},
   "outputs": [
    {
     "name": "stdout",
     "output_type": "stream",
     "text": [
      "['c']\n"
     ]
    }
   ],
   "source": [
    "abc = ['a','b','c']\n",
    "cde = ['c','d','e']\n",
    "\n",
    "duplicate = [i for i in abc for j in cde if i == j]\n",
    "\n",
    "print(duplicate)"
   ]
  },
  {
   "cell_type": "code",
   "execution_count": 19,
   "id": "955f5d6b-6a22-470c-9526-f260f6094826",
   "metadata": {},
   "outputs": [
    {
     "name": "stdout",
     "output_type": "stream",
     "text": [
      "['DATA', 'SCIENCE']\n"
     ]
    }
   ],
   "source": [
    "data = [\"data\",\"science\"]\n",
    "\n",
    "upper = [_.upper() for _ in data]\n",
    "\n",
    "print(upper)"
   ]
  },
  {
   "cell_type": "markdown",
   "id": "99f035ba-d7ea-4704-836f-96e12b33845a",
   "metadata": {},
   "source": [
    "- Underscore (_) is a valid character for variable naming.\n",
    "- In general \"_\" is usually used as a throwaway variable (unimportant variable)."
   ]
  }
 ],
 "metadata": {
  "kernelspec": {
   "display_name": "Python 3 (ipykernel)",
   "language": "python",
   "name": "python3"
  },
  "language_info": {
   "codemirror_mode": {
    "name": "ipython",
    "version": 3
   },
   "file_extension": ".py",
   "mimetype": "text/x-python",
   "name": "python",
   "nbconvert_exporter": "python",
   "pygments_lexer": "ipython3",
   "version": "3.11.7"
  }
 },
 "nbformat": 4,
 "nbformat_minor": 5
}
