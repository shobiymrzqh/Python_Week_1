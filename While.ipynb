{
 "cells": [
  {
   "cell_type": "markdown",
   "id": "b90dc77c-9068-473e-820b-e9d51f8a4e1d",
   "metadata": {},
   "source": [
    "WHILE"
   ]
  },
  {
   "cell_type": "markdown",
   "id": "195a41c9-bc07-4bbe-9846-5e94c63d2d50",
   "metadata": {},
   "source": [
    "- While in the Python language is used to execute a statement as long as a given condition remains true.\n",
    "- The condition can be any expression, and remember that True in Python includes all non-zero values.\n",
    "- When the condition becomes False, the program will continue to the line after the statement block."
   ]
  },
  {
   "cell_type": "code",
   "execution_count": 4,
   "id": "ed58a4dd-aa79-4963-92ae-b6ecee4222b0",
   "metadata": {},
   "outputs": [
    {
     "name": "stdin",
     "output_type": "stream",
     "text": [
      " 0\n"
     ]
    },
    {
     "name": "stdout",
     "output_type": "stream",
     "text": [
      "number 0\n",
      "number 1\n",
      "number 2\n"
     ]
    }
   ],
   "source": [
    "number = int(input())\n",
    "\n",
    "while (number < 3):\n",
    "    print (\"number {}\".format(number))\n",
    "    number = number + 1\n"
   ]
  },
  {
   "cell_type": "code",
   "execution_count": 3,
   "id": "531f9386-9737-47fc-84a4-cf257a376b81",
   "metadata": {},
   "outputs": [
    {
     "name": "stdin",
     "output_type": "stream",
     "text": [
      " 0\n"
     ]
    },
    {
     "name": "stdout",
     "output_type": "stream",
     "text": [
      "number 0\n",
      "number 2\n",
      "number 4\n",
      "number 6\n",
      "number 8\n"
     ]
    }
   ],
   "source": [
    "number = int(input())\n",
    "\n",
    "while (number < 10 ):\n",
    "    print (\"number {}\".format(number))\n",
    "    number = number + 2"
   ]
  },
  {
   "cell_type": "markdown",
   "id": "1c3e238e-dcac-4027-aa97-4e522aebc616",
   "metadata": {},
   "source": [
    "Else after While"
   ]
  },
  {
   "cell_type": "markdown",
   "id": "5a09adde-f3c5-474b-bbda-a8504df65683",
   "metadata": {},
   "source": [
    "In the while statement, the else statement block will always be executed when the condition in the while becomes false."
   ]
  },
  {
   "cell_type": "code",
   "execution_count": 7,
   "id": "9d7447d2-2405-4975-9364-c5acab8addfa",
   "metadata": {},
   "outputs": [
    {
     "name": "stdin",
     "output_type": "stream",
     "text": [
      " 1\n"
     ]
    },
    {
     "name": "stdout",
     "output_type": "stream",
     "text": [
      "3\n",
      "5\n",
      "7\n",
      "9\n",
      "11\n",
      "loop complete\n"
     ]
    }
   ],
   "source": [
    "number = int(input())\n",
    "\n",
    "while (number < 10):\n",
    "    number = number + 2\n",
    "    if number == 6:\n",
    "        break\n",
    "    print(number)\n",
    "else:\n",
    "    print(\"loop complete\")"
   ]
  },
  {
   "cell_type": "code",
   "execution_count": 10,
   "id": "1887d3b4-87b1-412c-b87d-4d88958fcdef",
   "metadata": {},
   "outputs": [
    {
     "name": "stdin",
     "output_type": "stream",
     "text": [
      " 10\n"
     ]
    },
    {
     "name": "stdout",
     "output_type": "stream",
     "text": [
      "8\n",
      "6\n",
      "4\n",
      "2\n",
      "0\n",
      "loop complete\n"
     ]
    }
   ],
   "source": [
    "number = int(input())\n",
    "\n",
    "while (number > 0):\n",
    "    number = number - 2\n",
    "    print(number)\n",
    "else:\n",
    "    print(\"loop complete\")"
   ]
  },
  {
   "cell_type": "code",
   "execution_count": 9,
   "id": "ab93d81e-fc3a-4eb1-a1bf-ccf6850a6ec8",
   "metadata": {},
   "outputs": [
    {
     "name": "stdin",
     "output_type": "stream",
     "text": [
      " 10\n"
     ]
    },
    {
     "name": "stdout",
     "output_type": "stream",
     "text": [
      "9\n",
      "8\n",
      "7\n",
      "6\n",
      "4\n",
      "3\n",
      "2\n",
      "1\n",
      "0\n",
      "done\n"
     ]
    }
   ],
   "source": [
    "countdown = int(input())\n",
    "\n",
    "while (countdown > 0):\n",
    "    countdown = countdown - 1\n",
    "    if countdown == 5:\n",
    "        continue\n",
    "    print(countdown)\n",
    "else:\n",
    "    print(\"done\")"
   ]
  },
  {
   "cell_type": "code",
   "execution_count": 8,
   "id": "9eea92c6-75a5-4c3a-9a5d-1c9c87ee12ad",
   "metadata": {},
   "outputs": [
    {
     "name": "stdin",
     "output_type": "stream",
     "text": [
      " 10\n"
     ]
    },
    {
     "name": "stdout",
     "output_type": "stream",
     "text": [
      "9\n",
      "8\n",
      "7\n",
      "6\n"
     ]
    }
   ],
   "source": [
    "countdown = int(input())\n",
    "\n",
    "while (countdown > 0):\n",
    "    countdown = countdown - 1\n",
    "    if countdown == 5:\n",
    "        break\n",
    "    print(countdown)\n",
    "else:\n",
    "    print(\"done\")"
   ]
  },
  {
   "cell_type": "code",
   "execution_count": 7,
   "id": "86059b7d-7ab4-4071-95e1-7468c443c2e0",
   "metadata": {},
   "outputs": [
    {
     "name": "stdin",
     "output_type": "stream",
     "text": [
      " 10\n"
     ]
    },
    {
     "name": "stdout",
     "output_type": "stream",
     "text": [
      "9\n",
      "8\n",
      "7\n",
      "6\n",
      "done\n"
     ]
    }
   ],
   "source": [
    "countdown = int(input())\n",
    "\n",
    "while (countdown > 0):\n",
    "    countdown = countdown - 1\n",
    "    if countdown == 5:\n",
    "        break\n",
    "    print(countdown)\n",
    "else:\n",
    "    print(\"done\")\n",
    "print(\"done\")"
   ]
  }
 ],
 "metadata": {
  "kernelspec": {
   "display_name": "Python 3 (ipykernel)",
   "language": "python",
   "name": "python3"
  },
  "language_info": {
   "codemirror_mode": {
    "name": "ipython",
    "version": 3
   },
   "file_extension": ".py",
   "mimetype": "text/x-python",
   "name": "python",
   "nbconvert_exporter": "python",
   "pygments_lexer": "ipython3",
   "version": "3.11.7"
  }
 },
 "nbformat": 4,
 "nbformat_minor": 5
}
