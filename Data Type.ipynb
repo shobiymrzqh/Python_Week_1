{
 "cells": [
  {
   "cell_type": "markdown",
   "id": "8f96edb5-3cb7-474e-b02e-bd2e3f2b53a0",
   "metadata": {},
   "source": [
    "Data Types in Python :\n",
    "1. Numbers\n",
    "2. String\n",
    "3. Boolean\n",
    "4. List\n",
    "5. Slicing\n",
    "6. Tuple\n",
    "7. Set\n",
    "8. Dictionary"
   ]
  },
  {
   "cell_type": "markdown",
   "id": "555e2829-e1a0-4743-990b-e23b44512230",
   "metadata": {},
   "source": [
    "1. NUMBERS"
   ]
  },
  {
   "cell_type": "markdown",
   "id": "94a4e209-2247-4932-bf09-3c02eee13ed9",
   "metadata": {},
   "source": [
    "the numeric data types are categorized into three main types :\n",
    "- int (integer): Represents whole numbers, positive, negative, or zero.\n",
    "- float (floating-point): Represents numbers with decimals.\n",
    "- complex: Represents complex numbers (combination of real and imaginary parts)."
   ]
  },
  {
   "cell_type": "markdown",
   "id": "b092d627-ae57-4f53-9889-c1a2601df739",
   "metadata": {},
   "source": [
    "The difference between an integer and a float is the decimal points."
   ]
  },
  {
   "cell_type": "code",
   "execution_count": 14,
   "id": "59969336-53af-45e6-bf28-d5bf758b35a5",
   "metadata": {},
   "outputs": [],
   "source": [
    "a = 3"
   ]
  },
  {
   "cell_type": "code",
   "execution_count": 15,
   "id": "76499638-e0a3-4c10-9ecc-d96fb31575ce",
   "metadata": {
    "scrolled": true
   },
   "outputs": [
    {
     "data": {
      "text/plain": [
       "int"
      ]
     },
     "execution_count": 15,
     "metadata": {},
     "output_type": "execute_result"
    }
   ],
   "source": [
    "type(a)"
   ]
  },
  {
   "cell_type": "code",
   "execution_count": 2,
   "id": "49f38aa4-9a1d-40e8-94f0-7feeb40b9df5",
   "metadata": {},
   "outputs": [],
   "source": [
    "b = 5612"
   ]
  },
  {
   "cell_type": "code",
   "execution_count": 3,
   "id": "b5d07406-63f1-4c38-a757-b079f1a1697b",
   "metadata": {},
   "outputs": [
    {
     "data": {
      "text/plain": [
       "int"
      ]
     },
     "execution_count": 3,
     "metadata": {},
     "output_type": "execute_result"
    }
   ],
   "source": [
    "type(b)"
   ]
  },
  {
   "cell_type": "code",
   "execution_count": 4,
   "id": "a7c8a162-06f9-4f05-ada1-dd0680b4ed0a",
   "metadata": {},
   "outputs": [],
   "source": [
    "c = 1.7"
   ]
  },
  {
   "cell_type": "code",
   "execution_count": 5,
   "id": "0a643c5f-06b0-4f36-a0b2-af0e5e139af8",
   "metadata": {
    "scrolled": true
   },
   "outputs": [
    {
     "data": {
      "text/plain": [
       "float"
      ]
     },
     "execution_count": 5,
     "metadata": {},
     "output_type": "execute_result"
    }
   ],
   "source": [
    "type(c)"
   ]
  },
  {
   "cell_type": "code",
   "execution_count": 8,
   "id": "24c1cd47-e8a0-4122-8a54-036bce848ee9",
   "metadata": {},
   "outputs": [],
   "source": [
    "d = 15.64"
   ]
  },
  {
   "cell_type": "code",
   "execution_count": 9,
   "id": "65c20ab2-1fce-4252-8baa-86514e2ce898",
   "metadata": {},
   "outputs": [
    {
     "data": {
      "text/plain": [
       "float"
      ]
     },
     "execution_count": 9,
     "metadata": {},
     "output_type": "execute_result"
    }
   ],
   "source": [
    "type(d)"
   ]
  },
  {
   "cell_type": "markdown",
   "id": "49030100-9492-4d4c-b706-e5733097e586",
   "metadata": {},
   "source": [
    "Because Python is also widely used by mathematicians, the number type in Python also supports imaginary numbers and complex numbers.\n",
    "The value of a complex number is written in the formulation x+yj. that is, x is a real number and y is an imaginary number."
   ]
  },
  {
   "cell_type": "code",
   "execution_count": 10,
   "id": "d7df4d5a-59c1-4aab-8db7-43b700b6a1a8",
   "metadata": {},
   "outputs": [],
   "source": [
    "e = 3+5j"
   ]
  },
  {
   "cell_type": "code",
   "execution_count": 12,
   "id": "0b09bafe-734e-494a-883b-c243aff472fc",
   "metadata": {},
   "outputs": [
    {
     "data": {
      "text/plain": [
       "complex"
      ]
     },
     "execution_count": 12,
     "metadata": {},
     "output_type": "execute_result"
    }
   ],
   "source": [
    "type(e)"
   ]
  },
  {
   "cell_type": "code",
   "execution_count": 4,
   "id": "7865baa5-c29a-46e1-9637-e557e9a24d0c",
   "metadata": {},
   "outputs": [],
   "source": [
    "f = 18+11j"
   ]
  },
  {
   "cell_type": "code",
   "execution_count": 5,
   "id": "32bc9203-db38-49f8-ab0a-ba353ae48db8",
   "metadata": {},
   "outputs": [
    {
     "data": {
      "text/plain": [
       "complex"
      ]
     },
     "execution_count": 5,
     "metadata": {},
     "output_type": "execute_result"
    }
   ],
   "source": [
    "type(f)"
   ]
  },
  {
   "cell_type": "markdown",
   "id": "1dab53d3-b7c4-458e-bd59-06f5bd39ff2e",
   "metadata": {},
   "source": [
    "2. STRING"
   ]
  },
  {
   "cell_type": "markdown",
   "id": "56afbdfe-4304-44ac-9152-bbd2fc7a8834",
   "metadata": {},
   "source": [
    "strings are sequences and unicode characters declared with single or double quote."
   ]
  },
  {
   "cell_type": "code",
   "execution_count": 31,
   "id": "5a02411a-5478-4d8a-b151-7bebc90f102f",
   "metadata": {},
   "outputs": [],
   "source": [
    "a = \"Hello, world!\""
   ]
  },
  {
   "cell_type": "code",
   "execution_count": 32,
   "id": "243de0a9-224b-4924-8feb-3ddb48726331",
   "metadata": {},
   "outputs": [
    {
     "data": {
      "text/plain": [
       "str"
      ]
     },
     "execution_count": 32,
     "metadata": {},
     "output_type": "execute_result"
    }
   ],
   "source": [
    "type(a)"
   ]
  },
  {
   "cell_type": "code",
   "execution_count": 33,
   "id": "bfc3b267-0c05-4369-921c-e8423a4ef31f",
   "metadata": {},
   "outputs": [
    {
     "name": "stdout",
     "output_type": "stream",
     "text": [
      "Hello, world!\n"
     ]
    }
   ],
   "source": [
    "print (a)"
   ]
  },
  {
   "cell_type": "markdown",
   "id": "b0920501-b1fa-4161-be42-cd31147b5435",
   "metadata": {},
   "source": [
    "If you want a string > 1 line, then use 3 single or double quotes (''' or \"\"\").\n",
    "or, you can also use backslice n (\\n)."
   ]
  },
  {
   "cell_type": "code",
   "execution_count": 6,
   "id": "554afa67-aa6f-4f4f-91f3-41cabe73e01a",
   "metadata": {},
   "outputs": [],
   "source": [
    "b = \"\"\"Bootcamp Data Analyst\n",
    "Kampus Merdeka x My Edu Solve\n",
    "Class B\"\"\""
   ]
  },
  {
   "cell_type": "code",
   "execution_count": 7,
   "id": "f23fb1d1-9c62-4895-b946-e4c0c607f9a4",
   "metadata": {},
   "outputs": [
    {
     "name": "stdout",
     "output_type": "stream",
     "text": [
      "Bootcamp Data Analyst\n",
      "Kampus Merdeka x My Edu Solve\n",
      "Class B\n"
     ]
    }
   ],
   "source": [
    "print (b)"
   ]
  },
  {
   "cell_type": "code",
   "execution_count": 8,
   "id": "fbd859d7-5892-4e0a-bba9-8244400798fd",
   "metadata": {},
   "outputs": [],
   "source": [
    "b = \"Bootcamp Data Analyst \\nKampus Merdeka x My Edu Solve \\nClass B\""
   ]
  },
  {
   "cell_type": "code",
   "execution_count": 9,
   "id": "572faf63-1f54-45b6-b5c3-d5019baad3a7",
   "metadata": {},
   "outputs": [
    {
     "name": "stdout",
     "output_type": "stream",
     "text": [
      "Bootcamp Data Analyst \n",
      "Kampus Merdeka x My Edu Solve \n",
      "Class B\n"
     ]
    }
   ],
   "source": [
    "print (b)"
   ]
  },
  {
   "cell_type": "code",
   "execution_count": 10,
   "id": "c1d82270-7ac5-48d7-8798-5131205cfe51",
   "metadata": {},
   "outputs": [],
   "source": [
    "c = \"I'am\""
   ]
  },
  {
   "cell_type": "code",
   "execution_count": 11,
   "id": "7954f0de-4547-4450-907b-3d658d3b817a",
   "metadata": {},
   "outputs": [
    {
     "name": "stdout",
     "output_type": "stream",
     "text": [
      "I'am\n"
     ]
    }
   ],
   "source": [
    "print (c)"
   ]
  },
  {
   "cell_type": "markdown",
   "id": "3adcae21-b287-4d40-be32-b6f904f05c33",
   "metadata": {},
   "source": [
    "3. BOOL/BOOLEAN"
   ]
  },
  {
   "cell_type": "markdown",
   "id": "c16c14ac-87d5-488d-9dc0-f674ba730163",
   "metadata": {},
   "source": [
    "A boolean data type in Python, denoted by bool, represents logical values. It can only have two possible values:\n",
    "\n",
    "- True: Represents truth or a positive condition.\n",
    "- False: Represents falsehood or a negative condition."
   ]
  },
  {
   "cell_type": "code",
   "execution_count": 41,
   "id": "18f1d8c4-6218-4ce8-8ed3-20ef2c522060",
   "metadata": {},
   "outputs": [
    {
     "data": {
      "text/plain": [
       "False"
      ]
     },
     "execution_count": 41,
     "metadata": {},
     "output_type": "execute_result"
    }
   ],
   "source": [
    "2>5"
   ]
  },
  {
   "cell_type": "code",
   "execution_count": 43,
   "id": "ccb5c7e8-d6fb-40a9-b819-2bb74ea15b54",
   "metadata": {},
   "outputs": [
    {
     "data": {
      "text/plain": [
       "True"
      ]
     },
     "execution_count": 43,
     "metadata": {},
     "output_type": "execute_result"
    }
   ],
   "source": [
    "2<=5"
   ]
  },
  {
   "cell_type": "code",
   "execution_count": 42,
   "id": "0bafb380-8540-448b-905f-938481685eb2",
   "metadata": {},
   "outputs": [
    {
     "data": {
      "text/plain": [
       "False"
      ]
     },
     "execution_count": 42,
     "metadata": {},
     "output_type": "execute_result"
    }
   ],
   "source": [
    "2==5"
   ]
  },
  {
   "cell_type": "code",
   "execution_count": 44,
   "id": "e313714b-8993-4bc4-9cce-a8ab9ca1293c",
   "metadata": {},
   "outputs": [
    {
     "data": {
      "text/plain": [
       "True"
      ]
     },
     "execution_count": 44,
     "metadata": {},
     "output_type": "execute_result"
    }
   ],
   "source": [
    "2!=5"
   ]
  },
  {
   "cell_type": "markdown",
   "id": "9ac8dd1d-51e7-41c0-87a9-6f309ec15571",
   "metadata": {},
   "source": [
    "4. SLICING"
   ]
  },
  {
   "cell_type": "markdown",
   "id": "62ffafbb-fb45-40b0-a7b6-792760a70958",
   "metadata": {},
   "source": [
    "Slicing in Python is a powerful technique for extracting a subset of elements from sequences like lists, tuples, and strings. It allows you to create a new sequence containing a specific portion of the original one, without modifying the original sequence itself.\n"
   ]
  },
  {
   "cell_type": "markdown",
   "id": "435d98b5-aab4-4234-85d9-a885aa7d3742",
   "metadata": {},
   "source": [
    "5. LIST"
   ]
  },
  {
   "cell_type": "markdown",
   "id": "19e20270-adae-4ee3-aac6-679fd395d92a",
   "metadata": {},
   "source": [
    "Lists are a type of ordered data collection and are one of the variables that are often used in Python.\n",
    "Similar but not the same as Arrays in other programming languages.\n",
    "The difference is, List elements in Python do not have to have the same data type.\n",
    "Declaring a List is quite easy by using square brackets separated by commas."
   ]
  },
  {
   "cell_type": "code",
   "execution_count": 45,
   "id": "042e760b-d6eb-4e3d-b658-25b5fcf4581b",
   "metadata": {},
   "outputs": [],
   "source": [
    "a = [4, 6.32, 'sembilan']"
   ]
  },
  {
   "cell_type": "code",
   "execution_count": 46,
   "id": "98ab648d-39fe-4399-bf28-f8ec85f90c43",
   "metadata": {},
   "outputs": [
    {
     "data": {
      "text/plain": [
       "list"
      ]
     },
     "execution_count": 46,
     "metadata": {},
     "output_type": "execute_result"
    }
   ],
   "source": [
    "type (a)"
   ]
  },
  {
   "cell_type": "code",
   "execution_count": 47,
   "id": "c57eb3ce-b1d3-4b6f-8e21-7873162bea3b",
   "metadata": {},
   "outputs": [
    {
     "name": "stdout",
     "output_type": "stream",
     "text": [
      "[4, 6.32, 'sembilan']\n"
     ]
    }
   ],
   "source": [
    "print (a)"
   ]
  },
  {
   "cell_type": "markdown",
   "id": "7840f6b2-9b58-4cbd-9170-13dd985ffd64",
   "metadata": {},
   "source": [
    "Each data in it can be accessed with an index starting from 0 (slicing the list)"
   ]
  },
  {
   "cell_type": "code",
   "execution_count": 48,
   "id": "9c58c33b-9803-4d6e-8f8e-0a8621d69c90",
   "metadata": {},
   "outputs": [
    {
     "data": {
      "text/plain": [
       "4"
      ]
     },
     "execution_count": 48,
     "metadata": {},
     "output_type": "execute_result"
    }
   ],
   "source": [
    "a[0]"
   ]
  },
  {
   "cell_type": "code",
   "execution_count": 49,
   "id": "b9d710aa-4c6a-411a-abf7-06c41ae3b72a",
   "metadata": {},
   "outputs": [
    {
     "data": {
      "text/plain": [
       "6.32"
      ]
     },
     "execution_count": 49,
     "metadata": {},
     "output_type": "execute_result"
    }
   ],
   "source": [
    "a[1]"
   ]
  },
  {
   "cell_type": "code",
   "execution_count": 50,
   "id": "bdefb36b-d254-44ae-b66b-f1f0927637a6",
   "metadata": {},
   "outputs": [
    {
     "data": {
      "text/plain": [
       "'sembilan'"
      ]
     },
     "execution_count": 50,
     "metadata": {},
     "output_type": "execute_result"
    }
   ],
   "source": [
    "a[2]"
   ]
  },
  {
   "cell_type": "code",
   "execution_count": 51,
   "id": "1d4436e1-4a37-4aac-95e6-c0c9ed68e8cc",
   "metadata": {},
   "outputs": [
    {
     "data": {
      "text/plain": [
       "int"
      ]
     },
     "execution_count": 51,
     "metadata": {},
     "output_type": "execute_result"
    }
   ],
   "source": [
    "type (a[0])"
   ]
  },
  {
   "cell_type": "code",
   "execution_count": 52,
   "id": "d6c9efd6-ae4a-4518-a96c-3982673c4d90",
   "metadata": {},
   "outputs": [
    {
     "data": {
      "text/plain": [
       "float"
      ]
     },
     "execution_count": 52,
     "metadata": {},
     "output_type": "execute_result"
    }
   ],
   "source": [
    "type(a[1])"
   ]
  },
  {
   "cell_type": "code",
   "execution_count": 53,
   "id": "b56e2842-2c3d-447c-a61f-97ecd3fa5e0f",
   "metadata": {},
   "outputs": [
    {
     "data": {
      "text/plain": [
       "str"
      ]
     },
     "execution_count": 53,
     "metadata": {},
     "output_type": "execute_result"
    }
   ],
   "source": [
    "type(a[2])"
   ]
  },
  {
   "cell_type": "code",
   "execution_count": 56,
   "id": "6b0b5def-0070-4f5c-bfc4-bd1ad8b49a28",
   "metadata": {},
   "outputs": [],
   "source": [
    "tgl = [17, 'juli', 2002]"
   ]
  },
  {
   "cell_type": "code",
   "execution_count": 57,
   "id": "d71669f0-4507-4935-9651-fa20cbc15df3",
   "metadata": {},
   "outputs": [
    {
     "data": {
      "text/plain": [
       "list"
      ]
     },
     "execution_count": 57,
     "metadata": {},
     "output_type": "execute_result"
    }
   ],
   "source": [
    "type(tgl)"
   ]
  },
  {
   "cell_type": "code",
   "execution_count": 58,
   "id": "d7116c1f-f6b3-4329-8b1a-80c2d2671396",
   "metadata": {},
   "outputs": [
    {
     "name": "stdout",
     "output_type": "stream",
     "text": [
      "[17, 'juli', 2002]\n"
     ]
    }
   ],
   "source": [
    "print(tgl)"
   ]
  },
  {
   "cell_type": "code",
   "execution_count": 59,
   "id": "54da9a7e-e3ea-4164-ad18-144e7149bbbc",
   "metadata": {},
   "outputs": [
    {
     "data": {
      "text/plain": [
       "17"
      ]
     },
     "execution_count": 59,
     "metadata": {},
     "output_type": "execute_result"
    }
   ],
   "source": [
    "tgl[0]"
   ]
  },
  {
   "cell_type": "code",
   "execution_count": 60,
   "id": "196d5e50-c1b0-435e-8f10-34c54ed8d566",
   "metadata": {
    "scrolled": true
   },
   "outputs": [
    {
     "data": {
      "text/plain": [
       "int"
      ]
     },
     "execution_count": 60,
     "metadata": {},
     "output_type": "execute_result"
    }
   ],
   "source": [
    "type(tgl[0])"
   ]
  },
  {
   "cell_type": "markdown",
   "id": "84e61aac-5070-46f4-9278-cc5e9ac8ae3a",
   "metadata": {},
   "source": [
    "6. TUPLE"
   ]
  },
  {
   "cell_type": "markdown",
   "id": "6adc85a9-c1c3-404b-8743-1450baff0bd6",
   "metadata": {},
   "source": [
    "Tuple is a type of List whose elements cannot be changed.\n",
    "Generally used for data that is write-once, and can be executed more quickly.\n",
    "Tuples are defined with brackets and elements separated by commas."
   ]
  },
  {
   "cell_type": "code",
   "execution_count": 2,
   "id": "1334cc2e-2f50-464e-8bf8-e78170d72410",
   "metadata": {},
   "outputs": [],
   "source": [
    "a = (2, \"buku\", 3.5)"
   ]
  },
  {
   "cell_type": "code",
   "execution_count": 3,
   "id": "ed324884-2f43-41d8-8403-f0ded84fed2c",
   "metadata": {},
   "outputs": [
    {
     "data": {
      "text/plain": [
       "tuple"
      ]
     },
     "execution_count": 3,
     "metadata": {},
     "output_type": "execute_result"
    }
   ],
   "source": [
    "type (a)"
   ]
  },
  {
   "cell_type": "code",
   "execution_count": 4,
   "id": "e1c1e194-1447-4e90-bbac-d539b285400d",
   "metadata": {},
   "outputs": [
    {
     "name": "stdout",
     "output_type": "stream",
     "text": [
      "(2, 'buku', 3.5)\n"
     ]
    }
   ],
   "source": [
    "print (a)"
   ]
  },
  {
   "cell_type": "markdown",
   "id": "67c43010-219b-4f67-83f6-899863d8797f",
   "metadata": {},
   "source": [
    "similar to lists, tuple also support slicing to extract specific subsequences."
   ]
  },
  {
   "cell_type": "code",
   "execution_count": 6,
   "id": "c5266a7b-08c2-4b57-b6fa-07e59e1d85e3",
   "metadata": {},
   "outputs": [
    {
     "name": "stdout",
     "output_type": "stream",
     "text": [
      "2\n"
     ]
    }
   ],
   "source": [
    "print(a[0])"
   ]
  },
  {
   "cell_type": "code",
   "execution_count": 8,
   "id": "7796b724-e797-45fb-bd4d-5109de2906df",
   "metadata": {},
   "outputs": [
    {
     "name": "stdout",
     "output_type": "stream",
     "text": [
      "(2, 'buku')\n"
     ]
    }
   ],
   "source": [
    "print(a[0:2])"
   ]
  },
  {
   "cell_type": "markdown",
   "id": "c56d3db2-fe91-4d79-9ede-ca685b112a22",
   "metadata": {},
   "source": [
    "7. SET"
   ]
  },
  {
   "cell_type": "markdown",
   "id": "cbef99ba-8c1e-4295-b938-78addbd0e959",
   "metadata": {},
   "source": [
    "Set is a collection of items that are unique and without order (unordered collection). It is defined by curly braces and its elements are separated by commas.\n",
    "On sets, we can perform unions and intersections, as well as automatically delete duplicate data."
   ]
  },
  {
   "cell_type": "code",
   "execution_count": 13,
   "id": "a70d2376-25f2-4ec1-84f5-3b086dab3176",
   "metadata": {},
   "outputs": [],
   "source": [
    "a = {3,3,3,3,4,4,4,5,5,5}"
   ]
  },
  {
   "cell_type": "code",
   "execution_count": 11,
   "id": "cbbe1aa4-95e6-49bd-b81c-30a28bb781d0",
   "metadata": {},
   "outputs": [
    {
     "data": {
      "text/plain": [
       "set"
      ]
     },
     "execution_count": 11,
     "metadata": {},
     "output_type": "execute_result"
    }
   ],
   "source": [
    "type(a)"
   ]
  },
  {
   "cell_type": "code",
   "execution_count": 12,
   "id": "6601a630-8fe5-4989-a6a7-cc3421b93dcf",
   "metadata": {},
   "outputs": [
    {
     "name": "stdout",
     "output_type": "stream",
     "text": [
      "{3, 4, 5}\n"
     ]
    }
   ],
   "source": [
    "print(a)"
   ]
  },
  {
   "cell_type": "markdown",
   "id": "442989e6-8cf2-4c58-8b08-f1ba61c154d4",
   "metadata": {},
   "source": [
    "Slicing cannot be used for direct retrieval of elements based on their value in sets because sets are unordered collections."
   ]
  },
  {
   "cell_type": "code",
   "execution_count": 14,
   "id": "e391a4d0-dc8c-4d05-900e-17d01e961ba5",
   "metadata": {},
   "outputs": [
    {
     "ename": "TypeError",
     "evalue": "'set' object is not subscriptable",
     "output_type": "error",
     "traceback": [
      "\u001b[1;31m---------------------------------------------------------------------------\u001b[0m",
      "\u001b[1;31mTypeError\u001b[0m                                 Traceback (most recent call last)",
      "Cell \u001b[1;32mIn[14], line 1\u001b[0m\n\u001b[1;32m----> 1\u001b[0m \u001b[38;5;28mprint\u001b[39m(a[\u001b[38;5;241m1\u001b[39m])\n",
      "\u001b[1;31mTypeError\u001b[0m: 'set' object is not subscriptable"
     ]
    }
   ],
   "source": [
    "print(a[1])"
   ]
  },
  {
   "cell_type": "markdown",
   "id": "7d93099e-362e-4a3d-9a75-ce1e8615ca46",
   "metadata": {},
   "source": [
    "In SET, we can perform UNIONS and INTERSECTION, as well as automatically delete duplicate data."
   ]
  },
  {
   "cell_type": "code",
   "execution_count": 14,
   "id": "0379f3f3-78c5-4200-882b-c084cc1eca35",
   "metadata": {},
   "outputs": [],
   "source": [
    "a = {1,2,3}"
   ]
  },
  {
   "cell_type": "code",
   "execution_count": 16,
   "id": "03307357-ffec-48b6-b407-f096ada37d54",
   "metadata": {},
   "outputs": [],
   "source": [
    "b = {2,3,4,5}"
   ]
  },
  {
   "cell_type": "code",
   "execution_count": 17,
   "id": "0850d37b-641f-458d-a456-72019a85ba35",
   "metadata": {},
   "outputs": [
    {
     "data": {
      "text/plain": [
       "{1, 2, 3, 4, 5}"
      ]
     },
     "execution_count": 17,
     "metadata": {},
     "output_type": "execute_result"
    }
   ],
   "source": [
    "a.union(b)"
   ]
  },
  {
   "cell_type": "code",
   "execution_count": 18,
   "id": "5b759797-50f3-47e2-bbe1-3226349f02b6",
   "metadata": {},
   "outputs": [
    {
     "data": {
      "text/plain": [
       "{2, 3}"
      ]
     },
     "execution_count": 18,
     "metadata": {},
     "output_type": "execute_result"
    }
   ],
   "source": [
    "a.intersection(b)"
   ]
  },
  {
   "cell_type": "markdown",
   "id": "4905172a-c4b0-4e00-9a9e-a8bbb26c5592",
   "metadata": {},
   "source": [
    "8. DICTIONARY"
   ]
  },
  {
   "cell_type": "markdown",
   "id": "94e41d60-5db8-4d94-a455-6625e464c05a",
   "metadata": {},
   "source": [
    "A dictionary in Python is a collection of unordered key-value pairs.\n",
    "Dictionaries can be used to store small to large data. To access the data, we must know the key.\n",
    "In Python, a dictionary is defined with curly braces and additional definitions:\n",
    "- Each element of a key-value pair is separated by a comma (,)\n",
    "- key and value are separated by a colon (:)\n",
    "- keys and values ​​can be any type of variable/object."
   ]
  },
  {
   "cell_type": "code",
   "execution_count": 19,
   "id": "3b896e05-8337-4769-b17b-bdc90cbae255",
   "metadata": {},
   "outputs": [],
   "source": [
    "a = {\"nama\":\"Nam Do San\" , \"usia\":25}"
   ]
  },
  {
   "cell_type": "code",
   "execution_count": 20,
   "id": "e0c92a0c-6c0a-4895-851e-f7e2dcb755cc",
   "metadata": {},
   "outputs": [
    {
     "data": {
      "text/plain": [
       "dict"
      ]
     },
     "execution_count": 20,
     "metadata": {},
     "output_type": "execute_result"
    }
   ],
   "source": [
    "type(a)"
   ]
  },
  {
   "cell_type": "code",
   "execution_count": 21,
   "id": "a480ccfd-6db8-4671-a760-a5e638920c85",
   "metadata": {},
   "outputs": [
    {
     "data": {
      "text/plain": [
       "'Nam Do San'"
      ]
     },
     "execution_count": 21,
     "metadata": {},
     "output_type": "execute_result"
    }
   ],
   "source": [
    "a[\"nama\"]"
   ]
  },
  {
   "cell_type": "code",
   "execution_count": 22,
   "id": "c6e02764-9c7a-44f6-b55f-a8c1222eda42",
   "metadata": {},
   "outputs": [
    {
     "data": {
      "text/plain": [
       "25"
      ]
     },
     "execution_count": 22,
     "metadata": {},
     "output_type": "execute_result"
    }
   ],
   "source": [
    "a[\"usia\"]"
   ]
  },
  {
   "cell_type": "markdown",
   "id": "5981fcfc-6ce8-4466-a3e0-517682bb4cac",
   "metadata": {},
   "source": [
    "Dictionaries are not included in sequence implementations, so they cannot be called with index sequences.\n",
    "For example, in the following example it is tried with index 0, but it produces an error (KeyError) because there is no key (key) 0."
   ]
  },
  {
   "cell_type": "code",
   "execution_count": 23,
   "id": "65b1bcb6-0398-4284-b8dc-8ed0ead5ccc9",
   "metadata": {},
   "outputs": [
    {
     "ename": "KeyError",
     "evalue": "0",
     "output_type": "error",
     "traceback": [
      "\u001b[1;31m---------------------------------------------------------------------------\u001b[0m",
      "\u001b[1;31mKeyError\u001b[0m                                  Traceback (most recent call last)",
      "Cell \u001b[1;32mIn[23], line 1\u001b[0m\n\u001b[1;32m----> 1\u001b[0m a[\u001b[38;5;241m0\u001b[39m]\n",
      "\u001b[1;31mKeyError\u001b[0m: 0"
     ]
    }
   ],
   "source": [
    "a[0]"
   ]
  },
  {
   "cell_type": "markdown",
   "id": "f1bd8f57-ebde-47f4-88af-0e0e5e0c2371",
   "metadata": {},
   "source": [
    "Dictionaries in Python are powerful because they allow you to create nested structures, where one dictionary can contain another dictionary as a value. This is often referred to as nested dictionaries."
   ]
  },
  {
   "cell_type": "code",
   "execution_count": 32,
   "id": "0d46e7d3-d204-4d42-9a02-4474749202d8",
   "metadata": {},
   "outputs": [],
   "source": [
    "b = {\"nama\" :\n",
    "     {\"nama_1\" : \"Zilla\", \n",
    "      \"nama_2\" : \"Lala\"}\n",
    "    }"
   ]
  },
  {
   "cell_type": "code",
   "execution_count": 33,
   "id": "729fcfd3-af0c-4b3f-839e-8f6a75210bff",
   "metadata": {},
   "outputs": [
    {
     "data": {
      "text/plain": [
       "'Zilla'"
      ]
     },
     "execution_count": 33,
     "metadata": {},
     "output_type": "execute_result"
    }
   ],
   "source": [
    "b['nama']['nama_1']"
   ]
  }
 ],
 "metadata": {
  "kernelspec": {
   "display_name": "Python 3 (ipykernel)",
   "language": "python",
   "name": "python3"
  },
  "language_info": {
   "codemirror_mode": {
    "name": "ipython",
    "version": 3
   },
   "file_extension": ".py",
   "mimetype": "text/x-python",
   "name": "python",
   "nbconvert_exporter": "python",
   "pygments_lexer": "ipython3",
   "version": "3.11.7"
  }
 },
 "nbformat": 4,
 "nbformat_minor": 5
}
