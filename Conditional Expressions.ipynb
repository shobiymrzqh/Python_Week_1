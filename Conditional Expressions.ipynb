{
 "cells": [
  {
   "cell_type": "markdown",
   "id": "e8fef0e6-d083-41c9-b57e-f67d03d2610c",
   "metadata": {},
   "source": [
    "Conditional Expressions "
   ]
  },
  {
   "cell_type": "markdown",
   "id": "92342907-ffe1-47f4-a85c-41fe569dfbde",
   "metadata": {},
   "source": [
    "IF"
   ]
  },
  {
   "cell_type": "markdown",
   "id": "25170e1e-b8df-4040-abe3-b366bd358cc8",
   "metadata": {},
   "source": [
    "- In Python, expressions are placed after if, and the decision is determined based on the truth value of the expression.\n",
    "- If the expression evaluates to True, then the block of statements within the if statement will be executed.\n",
    "- By convention, this block has indentation following a colon (:)\n",
    "- If the expression is evaluated as False, then the next block (after the IF statement) will be executed."
   ]
  },
  {
   "cell_type": "code",
   "execution_count": 5,
   "id": "546a817c-58f6-4283-87fe-5de4ba25768c",
   "metadata": {},
   "outputs": [
    {
     "name": "stdout",
     "output_type": "stream",
     "text": [
      "Right, my name is Thomas\n"
     ]
    }
   ],
   "source": [
    "myname = \"Thomas\"\n",
    "\n",
    "if myname :\n",
    "    print(\"Right, my name is {}\".format(myname))"
   ]
  },
  {
   "cell_type": "code",
   "execution_count": 6,
   "id": "b590ae8d-d43c-4a0c-b6f7-57c118762d45",
   "metadata": {},
   "outputs": [
    {
     "name": "stdout",
     "output_type": "stream",
     "text": [
      "my age is 26\n"
     ]
    }
   ],
   "source": [
    "myage = 26\n",
    "\n",
    "if myage :\n",
    "    print(\"my age is {}\".format(myage))"
   ]
  },
  {
   "cell_type": "markdown",
   "id": "892ebd53-81c9-4e6b-9a88-87f477b9c9e0",
   "metadata": {},
   "source": [
    "ELSE"
   ]
  },
  {
   "cell_type": "markdown",
   "id": "14d334ae-a9ef-4572-83d4-c83522612568",
   "metadata": {},
   "source": [
    "- The Else statement can be combined with an IF statement, as a way out when the condition/evaluation result is False.\n",
    "- Else is optional and single"
   ]
  },
  {
   "cell_type": "code",
   "execution_count": 7,
   "id": "6e2cb7ab-a27f-446b-9a4d-eb8f6bcb854b",
   "metadata": {},
   "outputs": [
    {
     "name": "stdin",
     "output_type": "stream",
     "text": [
      "Your age:  21\n"
     ]
    }
   ],
   "source": [
    "age = input(\"Your age: \")"
   ]
  },
  {
   "cell_type": "code",
   "execution_count": 8,
   "id": "4bae3cc3-e0dc-4d99-aed5-3eff6e58fb44",
   "metadata": {},
   "outputs": [
    {
     "name": "stdin",
     "output_type": "stream",
     "text": [
      " 21\n"
     ]
    },
    {
     "data": {
      "text/plain": [
       "21"
      ]
     },
     "execution_count": 8,
     "metadata": {},
     "output_type": "execute_result"
    }
   ],
   "source": [
    "int(input())"
   ]
  },
  {
   "cell_type": "code",
   "execution_count": 10,
   "id": "86aa4a60-d6a2-4aa9-ba9d-a801f740abb5",
   "metadata": {},
   "outputs": [
    {
     "name": "stdin",
     "output_type": "stream",
     "text": [
      "Your age:  26\n"
     ]
    },
    {
     "name": "stdout",
     "output_type": "stream",
     "text": [
      "Legal\n"
     ]
    }
   ],
   "source": [
    "age = int(input(\"Your age: \"))\n",
    "\n",
    "if age>=17:\n",
    "    print(\"Legal\")\n",
    "else :\n",
    "    print(\"Under age\")"
   ]
  },
  {
   "cell_type": "code",
   "execution_count": 13,
   "id": "87ee264e-a53c-4216-90db-99d9d1f35c70",
   "metadata": {},
   "outputs": [
    {
     "name": "stdin",
     "output_type": "stream",
     "text": [
      "Your score:  99\n"
     ]
    },
    {
     "name": "stdout",
     "output_type": "stream",
     "text": [
      "Pass\n"
     ]
    }
   ],
   "source": [
    "score = int(input(\"Your score: \"))\n",
    "\n",
    "if score>=75:\n",
    "    print (\"Pass\")\n",
    "else :\n",
    "    print (\"Fail\")"
   ]
  },
  {
   "cell_type": "markdown",
   "id": "9f3be4b4-7b04-4315-9085-48caf3adbc0a",
   "metadata": {},
   "source": [
    "ELIF"
   ]
  },
  {
   "cell_type": "markdown",
   "id": "455cad9d-4eaf-4b37-b05b-e0bc32d5e5d0",
   "metadata": {},
   "source": [
    "- Elif is short for ELSE IF\n",
    "- Elif is an alternative to nested IF\n",
    "- An IF Statement can be followed by one or more elif statements (optional & unlimited)"
   ]
  },
  {
   "cell_type": "code",
   "execution_count": 14,
   "id": "8ba2afa8-5601-4d57-8a5d-15aad39f8e22",
   "metadata": {},
   "outputs": [
    {
     "name": "stdin",
     "output_type": "stream",
     "text": [
      "Input your score:  90\n"
     ]
    },
    {
     "name": "stdout",
     "output_type": "stream",
     "text": [
      "A\n"
     ]
    }
   ],
   "source": [
    "score = int(input(\"Input your score: \"))\n",
    "\n",
    "if score >=85:\n",
    "    print (\"A\")\n",
    "elif score >=70:\n",
    "    print(\"B\")\n",
    "else :\n",
    "    print (\"C\")"
   ]
  }
 ],
 "metadata": {
  "kernelspec": {
   "display_name": "Python 3 (ipykernel)",
   "language": "python",
   "name": "python3"
  },
  "language_info": {
   "codemirror_mode": {
    "name": "ipython",
    "version": 3
   },
   "file_extension": ".py",
   "mimetype": "text/x-python",
   "name": "python",
   "nbconvert_exporter": "python",
   "pygments_lexer": "ipython3",
   "version": "3.11.7"
  }
 },
 "nbformat": 4,
 "nbformat_minor": 5
}
