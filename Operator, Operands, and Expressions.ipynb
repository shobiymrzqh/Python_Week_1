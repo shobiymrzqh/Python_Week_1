{
 "cells": [
  {
   "cell_type": "markdown",
   "id": "84b30e71-02eb-498c-a02c-f9f8318397b6",
   "metadata": {},
   "source": [
    "Common operators used specifically for mathematical and string manipulations :\n",
    "1. Addition (+)\n",
    "2. Substraction (-)\n",
    "3. Multiplication (*)\n",
    "4. Exponentiation (**)\n",
    "5. Square Root (**0.5)\n",
    "6. Division (/)\n",
    "7. Floor Division (//)\n",
    "8. Modulo (%)"
   ]
  },
  {
   "cell_type": "markdown",
   "id": "520c46fe-0189-4b63-8f16-557b70b6ba42",
   "metadata": {},
   "source": [
    "1. Addition (+)"
   ]
  },
  {
   "cell_type": "code",
   "execution_count": 1,
   "id": "ca7856a1-3258-475b-8f13-619f794a1b9f",
   "metadata": {},
   "outputs": [
    {
     "data": {
      "text/plain": [
       "14"
      ]
     },
     "execution_count": 1,
     "metadata": {},
     "output_type": "execute_result"
    }
   ],
   "source": [
    "5+9"
   ]
  },
  {
   "cell_type": "code",
   "execution_count": 1,
   "id": "6b14906e-e80a-4984-9e17-764ce1e8a342",
   "metadata": {},
   "outputs": [
    {
     "data": {
      "text/plain": [
       "'Walking'"
      ]
     },
     "execution_count": 1,
     "metadata": {},
     "output_type": "execute_result"
    }
   ],
   "source": [
    "\"Walk\"+\"ing\""
   ]
  },
  {
   "cell_type": "markdown",
   "id": "32eff682-c9d8-4dfc-82ba-3c86014fb78d",
   "metadata": {},
   "source": [
    "2. Substraction (-)"
   ]
  },
  {
   "cell_type": "code",
   "execution_count": 3,
   "id": "5a077df3-6138-4776-bc52-6aee7c572641",
   "metadata": {},
   "outputs": [
    {
     "data": {
      "text/plain": [
       "4"
      ]
     },
     "execution_count": 3,
     "metadata": {},
     "output_type": "execute_result"
    }
   ],
   "source": [
    "9-5"
   ]
  },
  {
   "cell_type": "markdown",
   "id": "c7011c48-1fb3-46ab-885f-abb7313be8f2",
   "metadata": {},
   "source": [
    "Subtraction does not apply to strings, it will result in an unsupported operand error."
   ]
  },
  {
   "cell_type": "code",
   "execution_count": 2,
   "id": "030a98a8-4ada-4608-ab71-737c3667d12a",
   "metadata": {},
   "outputs": [
    {
     "ename": "TypeError",
     "evalue": "unsupported operand type(s) for -: 'str' and 'str'",
     "output_type": "error",
     "traceback": [
      "\u001b[1;31m---------------------------------------------------------------------------\u001b[0m",
      "\u001b[1;31mTypeError\u001b[0m                                 Traceback (most recent call last)",
      "Cell \u001b[1;32mIn[2], line 1\u001b[0m\n\u001b[1;32m----> 1\u001b[0m \u001b[38;5;124m\"\u001b[39m\u001b[38;5;124mSleeping\u001b[39m\u001b[38;5;124m\"\u001b[39m\u001b[38;5;241m-\u001b[39m\u001b[38;5;124m\"\u001b[39m\u001b[38;5;124ming\u001b[39m\u001b[38;5;124m\"\u001b[39m\n",
      "\u001b[1;31mTypeError\u001b[0m: unsupported operand type(s) for -: 'str' and 'str'"
     ]
    }
   ],
   "source": [
    "\"Sleeping\"-\"ing\""
   ]
  },
  {
   "cell_type": "markdown",
   "id": "d6a62415-ceaa-42a8-8729-f11b09309e1d",
   "metadata": {},
   "source": [
    "3. Multiplication (*)"
   ]
  },
  {
   "cell_type": "code",
   "execution_count": 5,
   "id": "14ce55b7-2b53-4bae-99a7-61a8a83275fd",
   "metadata": {},
   "outputs": [
    {
     "data": {
      "text/plain": [
       "18"
      ]
     },
     "execution_count": 5,
     "metadata": {},
     "output_type": "execute_result"
    }
   ],
   "source": [
    "9*2"
   ]
  },
  {
   "cell_type": "code",
   "execution_count": 6,
   "id": "5ee842c2-6169-40f5-8240-bf1d3f13ca68",
   "metadata": {},
   "outputs": [
    {
     "data": {
      "text/plain": [
       "468"
      ]
     },
     "execution_count": 6,
     "metadata": {},
     "output_type": "execute_result"
    }
   ],
   "source": [
    "18*26"
   ]
  },
  {
   "cell_type": "markdown",
   "id": "9b91e7b4-0499-4a2d-bbfd-f13293f6ff60",
   "metadata": {},
   "source": [
    "Multiplication on a string, returns the string repeated a specified number of times"
   ]
  },
  {
   "cell_type": "code",
   "execution_count": 5,
   "id": "ad5be3ef-028d-4774-b5a1-f2d1cd4a0745",
   "metadata": {},
   "outputs": [
    {
     "data": {
      "text/plain": [
       "'WooshWooshWoosh'"
      ]
     },
     "execution_count": 5,
     "metadata": {},
     "output_type": "execute_result"
    }
   ],
   "source": [
    "\"Woosh\"*3"
   ]
  },
  {
   "cell_type": "markdown",
   "id": "caf9c69b-bb17-4495-8341-7d56cee44a53",
   "metadata": {},
   "source": [
    "4. Exponentiation (**)"
   ]
  },
  {
   "cell_type": "code",
   "execution_count": 9,
   "id": "a13fa659-8a9b-4b9d-b4ad-fffbbc558734",
   "metadata": {},
   "outputs": [
    {
     "data": {
      "text/plain": [
       "8"
      ]
     },
     "execution_count": 9,
     "metadata": {},
     "output_type": "execute_result"
    }
   ],
   "source": [
    "2**3"
   ]
  },
  {
   "cell_type": "code",
   "execution_count": 7,
   "id": "ed0428b4-3401-4738-9c50-0b9795054ebe",
   "metadata": {},
   "outputs": [
    {
     "data": {
      "text/plain": [
       "1419857"
      ]
     },
     "execution_count": 7,
     "metadata": {},
     "output_type": "execute_result"
    }
   ],
   "source": [
    "17**5"
   ]
  },
  {
   "cell_type": "markdown",
   "id": "c4ab45fa-5ad5-40da-b2ee-8e52b33eb67f",
   "metadata": {},
   "source": [
    "5. Square Root (**0.5)"
   ]
  },
  {
   "cell_type": "markdown",
   "id": "d4dad344-482d-4e4d-a9e2-9c4b8ce83b6b",
   "metadata": {},
   "source": [
    "You can use the power of 0.5 along with the exponentiation operator (**) to find the square root in Python."
   ]
  },
  {
   "cell_type": "code",
   "execution_count": 10,
   "id": "c4250740-1cc9-4f9a-bbbe-5f2b6b07e907",
   "metadata": {},
   "outputs": [
    {
     "data": {
      "text/plain": [
       "9.0"
      ]
     },
     "execution_count": 10,
     "metadata": {},
     "output_type": "execute_result"
    }
   ],
   "source": [
    "81**0.5"
   ]
  },
  {
   "cell_type": "code",
   "execution_count": 11,
   "id": "a227db26-55af-4c62-b8d4-5a99dae8366e",
   "metadata": {},
   "outputs": [
    {
     "data": {
      "text/plain": [
       "99.37806599043876"
      ]
     },
     "execution_count": 11,
     "metadata": {},
     "output_type": "execute_result"
    }
   ],
   "source": [
    "9876**0.5"
   ]
  },
  {
   "cell_type": "markdown",
   "id": "7dc6a2f6-8d1e-4029-99fb-8cf7ad46cfaf",
   "metadata": {},
   "source": [
    "6. Division (/)"
   ]
  },
  {
   "cell_type": "markdown",
   "id": "1db57ab8-b5c7-4f2d-b0af-4cd7ad11e079",
   "metadata": {},
   "source": [
    " Returns the result of dividing the first operand by the second operand (always resulting in a float)"
   ]
  },
  {
   "cell_type": "code",
   "execution_count": 14,
   "id": "8ac14588-b195-4a6f-915f-dff15564d310",
   "metadata": {},
   "outputs": [
    {
     "data": {
      "text/plain": [
       "5.5"
      ]
     },
     "execution_count": 14,
     "metadata": {},
     "output_type": "execute_result"
    }
   ],
   "source": [
    "11/2"
   ]
  },
  {
   "cell_type": "code",
   "execution_count": 12,
   "id": "b68fb1c5-b6e3-4743-b36b-a5ad5593d005",
   "metadata": {},
   "outputs": [
    {
     "data": {
      "text/plain": [
       "86.74712643678161"
      ]
     },
     "execution_count": 12,
     "metadata": {},
     "output_type": "execute_result"
    }
   ],
   "source": [
    "7547/87"
   ]
  },
  {
   "cell_type": "markdown",
   "id": "df936d1f-3a55-4a0b-8c6a-dee61497cf14",
   "metadata": {},
   "source": [
    "7. Floor Division (//)"
   ]
  },
  {
   "cell_type": "markdown",
   "id": "d2cdf6ff-ddf2-49ac-85f0-5b5060a7994e",
   "metadata": {},
   "source": [
    "- Returns the result of dividing the first operand by the second operand (integer).\r",
    "- \n",
    "Unless one of the operands is float, it will return floa.t"
   ]
  },
  {
   "cell_type": "code",
   "execution_count": 16,
   "id": "a73735db-3ec0-4ebb-a119-e4edfe01c9d5",
   "metadata": {},
   "outputs": [
    {
     "data": {
      "text/plain": [
       "5"
      ]
     },
     "execution_count": 16,
     "metadata": {},
     "output_type": "execute_result"
    }
   ],
   "source": [
    "11//2"
   ]
  },
  {
   "cell_type": "code",
   "execution_count": 14,
   "id": "176fcbd5-b746-46dc-a311-ae17a8eda8d8",
   "metadata": {},
   "outputs": [
    {
     "data": {
      "text/plain": [
       "9"
      ]
     },
     "execution_count": 14,
     "metadata": {},
     "output_type": "execute_result"
    }
   ],
   "source": [
    "76//8"
   ]
  },
  {
   "cell_type": "markdown",
   "id": "c1e1e67a-1236-4136-b8f1-e659cfd4dd05",
   "metadata": {},
   "source": [
    "8. Modulo (%)"
   ]
  },
  {
   "cell_type": "markdown",
   "id": "313b66ac-97ab-4da4-b52c-12dd004050f6",
   "metadata": {},
   "source": [
    "Returns the remainder after dividing the first operand (numerator) by the second operand (denominator)"
   ]
  },
  {
   "cell_type": "code",
   "execution_count": 17,
   "id": "0d27d38b-ed4c-4aa5-ae0e-233af8d6cad5",
   "metadata": {},
   "outputs": [
    {
     "data": {
      "text/plain": [
       "1"
      ]
     },
     "execution_count": 17,
     "metadata": {},
     "output_type": "execute_result"
    }
   ],
   "source": [
    "11%2"
   ]
  },
  {
   "cell_type": "code",
   "execution_count": 15,
   "id": "24866a6e-8ff6-4a37-a1ae-b642817bb5e9",
   "metadata": {},
   "outputs": [
    {
     "data": {
      "text/plain": [
       "3"
      ]
     },
     "execution_count": 15,
     "metadata": {},
     "output_type": "execute_result"
    }
   ],
   "source": [
    "654%7"
   ]
  }
 ],
 "metadata": {
  "kernelspec": {
   "display_name": "Python 3 (ipykernel)",
   "language": "python",
   "name": "python3"
  },
  "language_info": {
   "codemirror_mode": {
    "name": "ipython",
    "version": 3
   },
   "file_extension": ".py",
   "mimetype": "text/x-python",
   "name": "python",
   "nbconvert_exporter": "python",
   "pygments_lexer": "ipython3",
   "version": "3.11.7"
  }
 },
 "nbformat": 4,
 "nbformat_minor": 5
}
