{
 "cells": [
  {
   "cell_type": "code",
   "execution_count": null,
   "id": "14065442-2b79-4446-a89f-0c3cdf1869f3",
   "metadata": {},
   "outputs": [],
   "source": [
    "CONTINUE"
   ]
  },
  {
   "cell_type": "markdown",
   "id": "330e8d30-3930-4c7d-b085-5c3978e9c6fe",
   "metadata": {},
   "source": [
    "- The continue statement will make the current iteration stop\n",
    "- Then proceed to the next iteration\n",
    "- Ignore statements that are between continue and the end of the repetition block"
   ]
  },
  {
   "cell_type": "code",
   "execution_count": 1,
   "id": "fb2fbadb-41ce-4fb6-a36c-24f7b628bd72",
   "metadata": {},
   "outputs": [
    {
     "name": "stdout",
     "output_type": "stream",
     "text": [
      "D\n",
      "t\n",
      " \n",
      "n\n",
      "l\n",
      "y\n",
      "s\n",
      "i\n",
      "s\n"
     ]
    }
   ],
   "source": [
    "for i in \"Data analysis\":\n",
    "    if i == \"a\":\n",
    "        continue\n",
    "    print(i)\n"
   ]
  },
  {
   "cell_type": "code",
   "execution_count": 3,
   "id": "4a72e724-4376-46db-ae27-4a9747d5683f",
   "metadata": {},
   "outputs": [
    {
     "name": "stdout",
     "output_type": "stream",
     "text": [
      "1\n",
      "2\n",
      "3\n",
      "4\n",
      "6\n"
     ]
    }
   ],
   "source": [
    "for i in range(1,7):\n",
    "    if i == 5:\n",
    "        continue\n",
    "    print(i)"
   ]
  }
 ],
 "metadata": {
  "kernelspec": {
   "display_name": "Python 3 (ipykernel)",
   "language": "python",
   "name": "python3"
  },
  "language_info": {
   "codemirror_mode": {
    "name": "ipython",
    "version": 3
   },
   "file_extension": ".py",
   "mimetype": "text/x-python",
   "name": "python",
   "nbconvert_exporter": "python",
   "pygments_lexer": "ipython3",
   "version": "3.11.7"
  }
 },
 "nbformat": 4,
 "nbformat_minor": 5
}
